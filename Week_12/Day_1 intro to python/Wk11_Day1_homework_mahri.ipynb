{
 "cells": [
  {
   "cell_type": "markdown",
   "id": "e064dc7a",
   "metadata": {},
   "source": [
    "# Q1. \n",
    "Create a list with the following data, and assign it to a variable named shopping: 'spam' 'ham' 'eggs' 'ham'"
   ]
  },
  {
   "cell_type": "code",
   "execution_count": 3,
   "id": "de3025fb",
   "metadata": {},
   "outputs": [
    {
     "data": {
      "text/plain": [
       "list"
      ]
     },
     "execution_count": 3,
     "metadata": {},
     "output_type": "execute_result"
    }
   ],
   "source": [
    "shopping = [\"spam\", \"ham\", \"eggs\", \"ham\"]\n",
    "type(shopping)"
   ]
  },
  {
   "cell_type": "markdown",
   "id": "61a38038",
   "metadata": {},
   "source": [
    "Then do the following:\n",
    "\n",
    "Extract the second element of the list.\n",
    "\n",
    "Extract the first to third (inclusive) element of the list.\n",
    "\n",
    "Extract only the last element of the list."
   ]
  },
  {
   "cell_type": "code",
   "execution_count": 4,
   "id": "8d25db85",
   "metadata": {},
   "outputs": [
    {
     "data": {
      "text/plain": [
       "'ham'"
      ]
     },
     "execution_count": 4,
     "metadata": {},
     "output_type": "execute_result"
    }
   ],
   "source": [
    "shopping[1]"
   ]
  },
  {
   "cell_type": "code",
   "execution_count": 7,
   "id": "db902097",
   "metadata": {},
   "outputs": [
    {
     "data": {
      "text/plain": [
       "['spam', 'ham', 'eggs']"
      ]
     },
     "execution_count": 7,
     "metadata": {},
     "output_type": "execute_result"
    }
   ],
   "source": [
    "shopping[0:3]"
   ]
  },
  {
   "cell_type": "code",
   "execution_count": 8,
   "id": "c8d2e5c6",
   "metadata": {},
   "outputs": [
    {
     "data": {
      "text/plain": [
       "'ham'"
      ]
     },
     "execution_count": 8,
     "metadata": {},
     "output_type": "execute_result"
    }
   ],
   "source": [
    "shopping[-1]"
   ]
  },
  {
   "cell_type": "markdown",
   "id": "049e5192",
   "metadata": {},
   "source": [
    "\n",
    "# Question 2\n",
    "Set up a list with the following elements:\n",
    "\n",
    "stops = [\"Croy\", \"Cumbernauld\", \"Falkirk High\", \"Linlithgow\", \"Livingston\", \"Haymarket\"]\n",
    "\n"
   ]
  },
  {
   "cell_type": "code",
   "execution_count": 63,
   "id": "21c6be7a",
   "metadata": {},
   "outputs": [
    {
     "data": {
      "text/plain": [
       "list"
      ]
     },
     "execution_count": 63,
     "metadata": {},
     "output_type": "execute_result"
    }
   ],
   "source": [
    "stops = [\"Croy\", \"Cumbernauld\", \"Falkirk High\", \"Linlithgow\", \"Livingston\", \"Haymarket\"]\n",
    "type(stops)"
   ]
  },
  {
   "cell_type": "markdown",
   "id": "992519ce",
   "metadata": {},
   "source": [
    "Perform the following:\n",
    "\n",
    "Append Edinburgh Waverley to the end of the list\n",
    "Add \"Queen Street\" to the start of the list\n",
    "Find out what index \"Croy\" is at in the list\n",
    "Add \"Polmont\" at the appropriate point (between \"Falkirk High\" and \"Linlithgow\")\n",
    "Remove \"Haymarket\" from the list of stops\n",
    "Remove all items from stops\n",
    "Hint: Some of these methods will change the original object stops. If you make any unwanted changes and \n",
    "want to go back to the original object you can re-run the code chunks where we created the object stops \n",
    "and then appended \"Edinburgh Waverley\"."
   ]
  },
  {
   "cell_type": "code",
   "execution_count": 64,
   "id": "3b36e044",
   "metadata": {},
   "outputs": [
    {
     "data": {
      "text/plain": [
       "['Croy',\n",
       " 'Cumbernauld',\n",
       " 'Falkirk High',\n",
       " 'Linlithgow',\n",
       " 'Livingston',\n",
       " 'Haymarket',\n",
       " 'Edinburgh Waverly']"
      ]
     },
     "execution_count": 64,
     "metadata": {},
     "output_type": "execute_result"
    }
   ],
   "source": [
    "#Append Edinburgh Waverley to the end of the list\n",
    "\n",
    "stops.append(\"Edinburgh Waverly\")\n",
    "stops"
   ]
  },
  {
   "cell_type": "code",
   "execution_count": 65,
   "id": "98d86a5b",
   "metadata": {},
   "outputs": [
    {
     "data": {
      "text/plain": [
       "['Queen Street',\n",
       " 'Croy',\n",
       " 'Cumbernauld',\n",
       " 'Falkirk High',\n",
       " 'Linlithgow',\n",
       " 'Livingston',\n",
       " 'Haymarket',\n",
       " 'Edinburgh Waverly']"
      ]
     },
     "execution_count": 65,
     "metadata": {},
     "output_type": "execute_result"
    }
   ],
   "source": [
    "# Add \"Queen Street\" to the start of the list\n",
    "\n",
    "stops.insert(0, \"Queen Street\")\n",
    "stops"
   ]
  },
  {
   "cell_type": "code",
   "execution_count": 66,
   "id": "e6588ca8",
   "metadata": {},
   "outputs": [
    {
     "data": {
      "text/plain": [
       "1"
      ]
     },
     "execution_count": 66,
     "metadata": {},
     "output_type": "execute_result"
    }
   ],
   "source": [
    "# Find out what index \"Croy\" is at in the list\n",
    "\n",
    "stops.index(\"Croy\")"
   ]
  },
  {
   "cell_type": "code",
   "execution_count": 67,
   "id": "56e207b5",
   "metadata": {},
   "outputs": [
    {
     "data": {
      "text/plain": [
       "['Queen Street',\n",
       " 'Croy',\n",
       " 'Cumbernauld',\n",
       " 'Falkirk High',\n",
       " 'Polmont',\n",
       " 'Linlithgow',\n",
       " 'Livingston',\n",
       " 'Haymarket',\n",
       " 'Edinburgh Waverly']"
      ]
     },
     "execution_count": 67,
     "metadata": {},
     "output_type": "execute_result"
    }
   ],
   "source": [
    "# Add \"Polmont\" at the appropriate point (between \"Falkirk High\" and \"Linlithgow\")\n",
    "\n",
    "stops.insert(4, \"Polmont\")\n",
    "stops"
   ]
  },
  {
   "cell_type": "code",
   "execution_count": 68,
   "id": "2205ab89",
   "metadata": {},
   "outputs": [
    {
     "data": {
      "text/plain": [
       "['Queen Street',\n",
       " 'Croy',\n",
       " 'Cumbernauld',\n",
       " 'Falkirk High',\n",
       " 'Polmont',\n",
       " 'Linlithgow',\n",
       " 'Livingston',\n",
       " 'Edinburgh Waverly']"
      ]
     },
     "execution_count": 68,
     "metadata": {},
     "output_type": "execute_result"
    }
   ],
   "source": [
    "# Remove \"Haymarket\" from the list of stops\n",
    "\n",
    "stops.remove(\"Haymarket\")\n",
    "stops"
   ]
  },
  {
   "cell_type": "code",
   "execution_count": 70,
   "id": "f767123c",
   "metadata": {},
   "outputs": [
    {
     "data": {
      "text/plain": [
       "[]"
      ]
     },
     "execution_count": 70,
     "metadata": {},
     "output_type": "execute_result"
    }
   ],
   "source": [
    "#Remove all items from stops\n",
    "\n",
    "stops.clear()\n",
    "\n",
    "stops"
   ]
  },
  {
   "cell_type": "markdown",
   "id": "75079404",
   "metadata": {},
   "source": [
    "# Question 3\n",
    "\n",
    "Set up the following dictionary:\n",
    "\n",
    "person = {\"name\": \"Steph\", \"age\": 31, \"Instructor\" : True}"
   ]
  },
  {
   "cell_type": "code",
   "execution_count": 71,
   "id": "c7e56949",
   "metadata": {},
   "outputs": [],
   "source": [
    "person = {\"name\": \"Steph\", \n",
    "          \"age\": 31, \n",
    "          \"Instructor\" : True}"
   ]
  },
  {
   "cell_type": "markdown",
   "id": "b2973f81",
   "metadata": {},
   "source": [
    "Do the following:\n",
    "\n",
    "Return the keys, values and items from this dictionary\n",
    "\n",
    "Take out only the name from it\n",
    "\n",
    "Add a new key:value pair, which adds the email \"steph@codeclan.com\" to the dictionary\n",
    "\n",
    "Delete the job description from the dictionary (Hint: look up the del function)"
   ]
  },
  {
   "cell_type": "code",
   "execution_count": 72,
   "id": "88537ee5",
   "metadata": {},
   "outputs": [
    {
     "data": {
      "text/plain": [
       "dict_keys(['name', 'age', 'Instructor'])"
      ]
     },
     "execution_count": 72,
     "metadata": {},
     "output_type": "execute_result"
    }
   ],
   "source": [
    "# Return the keys, values and items from this dictionary\n",
    "\n",
    "person.keys()"
   ]
  },
  {
   "cell_type": "code",
   "execution_count": 73,
   "id": "615b61d4",
   "metadata": {},
   "outputs": [
    {
     "data": {
      "text/plain": [
       "dict_values(['Steph', 31, True])"
      ]
     },
     "execution_count": 73,
     "metadata": {},
     "output_type": "execute_result"
    }
   ],
   "source": [
    "person.values()"
   ]
  },
  {
   "cell_type": "code",
   "execution_count": 74,
   "id": "ead821bc",
   "metadata": {},
   "outputs": [
    {
     "data": {
      "text/plain": [
       "dict_items([('name', 'Steph'), ('age', 31), ('Instructor', True)])"
      ]
     },
     "execution_count": 74,
     "metadata": {},
     "output_type": "execute_result"
    }
   ],
   "source": [
    "person.items()"
   ]
  },
  {
   "cell_type": "code",
   "execution_count": 75,
   "id": "ca87da95",
   "metadata": {},
   "outputs": [
    {
     "data": {
      "text/plain": [
       "'Steph'"
      ]
     },
     "execution_count": 75,
     "metadata": {},
     "output_type": "execute_result"
    }
   ],
   "source": [
    "# Take out only the name from it\n",
    "\n",
    "person[\"name\"]"
   ]
  },
  {
   "cell_type": "code",
   "execution_count": 76,
   "id": "f0e3a07f",
   "metadata": {},
   "outputs": [
    {
     "data": {
      "text/plain": [
       "{'name': 'Steph',\n",
       " 'age': 31,\n",
       " 'Instructor': True,\n",
       " 'value pair': 'steph@codeclan.com'}"
      ]
     },
     "execution_count": 76,
     "metadata": {},
     "output_type": "execute_result"
    }
   ],
   "source": [
    "#Add a new key:value pair, which adds the email \"steph@codeclan.com\" to the dictionary\n",
    "\n",
    "person.update({\"name\": \"Steph\", \n",
    "          \"age\": 31, \n",
    "          \"Instructor\" : True, \n",
    "           \"value pair\": \"steph@codeclan.com\"})\n",
    "\n",
    "person"
   ]
  },
  {
   "cell_type": "code",
   "execution_count": 78,
   "id": "ec1460fb",
   "metadata": {},
   "outputs": [],
   "source": [
    "# Delete the job description from the dictionary (Hint: look up the del function)\n",
    "\n",
    "del person[\"Instructor\"]\n"
   ]
  },
  {
   "cell_type": "code",
   "execution_count": 79,
   "id": "87bdcb74",
   "metadata": {},
   "outputs": [
    {
     "data": {
      "text/plain": [
       "{'name': 'Steph', 'age': 31, 'value pair': 'steph@codeclan.com'}"
      ]
     },
     "execution_count": 79,
     "metadata": {},
     "output_type": "execute_result"
    }
   ],
   "source": [
    "person"
   ]
  },
  {
   "cell_type": "markdown",
   "id": "540a701a",
   "metadata": {},
   "source": [
    "# Question 4\n",
    "\n",
    "For the following list of numbers:\n",
    "\n",
    "numbers = [1, 6, 2, 2, 7, 1, 6, 13, 99, 7]\n",
    "\n",
    "Print out a list of the even integers:\n",
    "\n",
    "Print the difference between the largest and smallest value:\n",
    "\n",
    "Print True if the list contains a 2 next to a 2 somewhere.\n",
    "\n",
    "Print the sum of the numbers, BUT ignore any section of numbers starting with a 6 and extending to the next 7. So [11, 6, 4, 99, 7, 11] would have sum of 22"
   ]
  },
  {
   "cell_type": "code",
   "execution_count": 80,
   "id": "9d179af5",
   "metadata": {},
   "outputs": [],
   "source": [
    "numbers = [1, 6, 2, 2, 7, 1, 6, 13, 99, 7]"
   ]
  },
  {
   "cell_type": "code",
   "execution_count": 83,
   "id": "1eab5647",
   "metadata": {},
   "outputs": [
    {
     "name": "stdout",
     "output_type": "stream",
     "text": [
      "[6, 2, 2, 6]\n"
     ]
    }
   ],
   "source": [
    "# Print out a list of the even integers:\n",
    "\n",
    "even_numbers = [] \n",
    "\n",
    "for n in numbers:\n",
    "    if n % 2 == 0:\n",
    "        even_numbers.append(n)\n",
    "        \n",
    "print(even_numbers)"
   ]
  },
  {
   "cell_type": "code",
   "execution_count": 84,
   "id": "ab344ed8",
   "metadata": {},
   "outputs": [
    {
     "name": "stdout",
     "output_type": "stream",
     "text": [
      "99\n"
     ]
    }
   ],
   "source": [
    "# Print the difference between the largest and smallest value:\n",
    "\n",
    "maximum = max(numbers)\n",
    "print(maximum)"
   ]
  },
  {
   "cell_type": "code",
   "execution_count": 85,
   "id": "f9cdc738",
   "metadata": {},
   "outputs": [
    {
     "name": "stdout",
     "output_type": "stream",
     "text": [
      "1\n"
     ]
    }
   ],
   "source": [
    "minimum = min(numbers)\n",
    "print(minimum)"
   ]
  },
  {
   "cell_type": "code",
   "execution_count": 89,
   "id": "fa94b639",
   "metadata": {},
   "outputs": [
    {
     "name": "stdout",
     "output_type": "stream",
     "text": [
      "98\n"
     ]
    }
   ],
   "source": [
    "print(maximum - minimum)"
   ]
  },
  {
   "cell_type": "code",
   "execution_count": 103,
   "id": "d565fb80",
   "metadata": {},
   "outputs": [
    {
     "ename": "SyntaxError",
     "evalue": "'return' outside function (Temp/ipykernel_93532/321590826.py, line 5)",
     "output_type": "error",
     "traceback": [
      "\u001b[1;36m  File \u001b[1;32m\"C:\\Users\\mahri\\AppData\\Local\\Temp/ipykernel_93532/321590826.py\"\u001b[1;36m, line \u001b[1;32m5\u001b[0m\n\u001b[1;33m    return TRUE\u001b[0m\n\u001b[1;37m    ^\u001b[0m\n\u001b[1;31mSyntaxError\u001b[0m\u001b[1;31m:\u001b[0m 'return' outside function\n"
     ]
    }
   ],
   "source": [
    "# Print True if the list contains a 2 next to a 2 somewhere.\n",
    "\n",
    "for n in numbers: \n",
    "    if numbers[n] == 2 and numbers[n+1] == 2:\n",
    "        return TRUE\n",
    "    \n",
    "    \n",
    "    \n",
    "# tried a few things... can't get this one to work."
   ]
  },
  {
   "cell_type": "code",
   "execution_count": null,
   "id": "b70b6b00",
   "metadata": {},
   "outputs": [],
   "source": [
    "# Print the sum of the numbers, BUT ignore any section of numbers starting with a \n",
    "# 6 and extending to the next 7. So [11, 6, 4, 99, 7, 11] would have sum of 22\n",
    "\n"
   ]
  },
  {
   "cell_type": "code",
   "execution_count": null,
   "id": "f9d95434",
   "metadata": {},
   "outputs": [],
   "source": []
  },
  {
   "cell_type": "code",
   "execution_count": null,
   "id": "4e14b10e",
   "metadata": {},
   "outputs": [],
   "source": []
  },
  {
   "cell_type": "code",
   "execution_count": null,
   "id": "92ad050b",
   "metadata": {},
   "outputs": [],
   "source": []
  },
  {
   "cell_type": "code",
   "execution_count": null,
   "id": "b6a0ad0c",
   "metadata": {},
   "outputs": [],
   "source": []
  },
  {
   "cell_type": "code",
   "execution_count": null,
   "id": "c88d9dc2",
   "metadata": {},
   "outputs": [],
   "source": []
  },
  {
   "cell_type": "code",
   "execution_count": null,
   "id": "9ad87255",
   "metadata": {},
   "outputs": [],
   "source": []
  },
  {
   "cell_type": "code",
   "execution_count": null,
   "id": "f3dd2f33",
   "metadata": {},
   "outputs": [],
   "source": []
  },
  {
   "cell_type": "code",
   "execution_count": null,
   "id": "3aa33ffb",
   "metadata": {},
   "outputs": [],
   "source": []
  },
  {
   "cell_type": "code",
   "execution_count": 2,
   "id": "13eb503d",
   "metadata": {},
   "outputs": [
    {
     "data": {
      "text/plain": [
       "list"
      ]
     },
     "execution_count": 2,
     "metadata": {},
     "output_type": "execute_result"
    }
   ],
   "source": []
  }
 ],
 "metadata": {
  "kernelspec": {
   "display_name": "Python 3 (ipykernel)",
   "language": "python",
   "name": "python3"
  },
  "language_info": {
   "codemirror_mode": {
    "name": "ipython",
    "version": 3
   },
   "file_extension": ".py",
   "mimetype": "text/x-python",
   "name": "python",
   "nbconvert_exporter": "python",
   "pygments_lexer": "ipython3",
   "version": "3.9.7"
  }
 },
 "nbformat": 4,
 "nbformat_minor": 5
}
